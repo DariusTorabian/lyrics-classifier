{
 "cells": [
  {
   "cell_type": "code",
   "execution_count": 1,
   "metadata": {},
   "outputs": [],
   "source": [
    "import pandas as pd\n",
    "from sklearn.feature_extraction.text import CountVectorizer, TfidfTransformer\n",
    "from sklearn.naive_bayes import MultinomialNB, GaussianNB, BernoulliNB\n",
    "from sklearn import metrics\n",
    "from sklearn.pipeline import Pipeline\n",
    "from sklearn.model_selection import train_test_split, cross_val_score\n",
    "import en_core_web_md\n",
    "import pickle\n",
    "from pyfiglet import Figlet\n",
    "\n",
    "\n"
   ]
  },
  {
   "cell_type": "code",
   "execution_count": 2,
   "metadata": {},
   "outputs": [],
   "source": [
    "artists_list=[]\n",
    "lyrics_df = pd.DataFrame()"
   ]
  },
  {
   "cell_type": "code",
   "execution_count": 3,
   "metadata": {},
   "outputs": [],
   "source": [
    "filepathlist = [\"Eminem.json\", \"TheKooks.json\", \"Mumford&Sons.json\"]\n",
    "artistlist = [\"Eminem\", \"The Kooks\", \"Mumford & Sons\"]"
   ]
  },
  {
   "cell_type": "code",
   "execution_count": 4,
   "metadata": {},
   "outputs": [],
   "source": [
    "def custom_tokenizer(text):\n",
    "    \"\"\"\n",
    "    converts a string into a text of tokens using spacy \n",
    "    \"\"\"\n",
    "    tokens = []\n",
    "    for t in nlp(text):\n",
    "        if not(len(t) < 2 or t.is_stop or t.like_num or \n",
    "               t.is_punct or t.is_oov or not t.is_alpha):\n",
    "            tokens.append(t.lemma_)\n",
    "    return tokens "
   ]
  },
  {
   "cell_type": "code",
   "execution_count": 5,
   "metadata": {},
   "outputs": [],
   "source": [
    "def read_lyrics_to_df(filename, artistname):\n",
    "    '''\n",
    "    Reads a previous scraped and saved json file with lyrics into a dataframe\n",
    "    and appends artistname to artists_list for later use.\n",
    "    '''\n",
    "    df = pd.read_json(filename)\n",
    "    df[\"artist\"] = artistname\n",
    "    if artistname not in artists_list:\n",
    "        artists_list.append(artistname)\n",
    "    df = pd.concat([lyrics_df, df], axis=0)\n",
    "    return df"
   ]
  },
  {
   "cell_type": "code",
   "execution_count": 15,
   "metadata": {},
   "outputs": [],
   "source": [
    "def create_model(filepathlist, artistlist):\n",
    "    '''\n",
    "    Creates a NB-model & Bag-of-words and saves them locally.\n",
    "    '''\n",
    "    lyrics_df = pd.DataFrame()\n",
    "    for fp, a in zip(filepathlist, artistlist):\n",
    "        print(f\"{fp}, {a}\")\n",
    "        lyrics_df = pd.concat([lyrics_df, read_lyrics_to_df(\"../data/\"+str(fp), str(a))])\n",
    "        print(lyrics_df.shape)\n",
    "    y = lyrics_df[\"artist\"]\n",
    "    X = lyrics_df[\"lyrics\"]\n",
    "    print(\"y:\")\n",
    "    print(y)\n",
    "    print(\"x:\")\n",
    "    print(X)\n",
    "\n",
    "    bow = CountVectorizer(tokenizer=custom_tokenizer,\n",
    "                          ngram_range=(1, 3), \n",
    "                          min_df=0.01, \n",
    "                          max_df=0.99)\n",
    "    X_train, X_test, y_train, y_test = train_test_split(X, y)\n",
    "    X_train = bow.fit_transform(X_train)\n",
    "    X_test = bow.transform(X_test)\n",
    "\n",
    "    m = Pipeline([\n",
    "        ('TfIdf', TfidfTransformer()),\n",
    "        ('NB', MultinomialNB())\n",
    "    ])\n",
    "    m.fit(X_train, y_train)\n",
    "\n",
    "    with open('../model/bow.p', 'wb') as f:\n",
    "        pickle.dump(bow, f)\n",
    "    with open('../model/model.p', 'wb') as f:\n",
    "        pickle.dump(m, f)\n",
    "    print(f\"Test acc:{metrics.accuracy_score(y_test, m.predict(X_test))}\")\n",
    "    print(f\"Train acc:{metrics.accuracy_score(y_train, m.predict(X_train))}\")\n",
    "\n",
    "    \n",
    "#    print(figlet.renderText('Model successfully created'))\n",
    "    return"
   ]
  },
  {
   "cell_type": "code",
   "execution_count": 16,
   "metadata": {},
   "outputs": [
    {
     "name": "stdout",
     "output_type": "stream",
     "text": [
      "Eminem.json, Eminem\n",
      "(479, 3)\n",
      "TheKooks.json, The Kooks\n",
      "(793, 3)\n",
      "Mumford&Sons.json, Mumford & Sons\n",
      "(1121, 3)\n",
      "y:\n",
      "0              Eminem\n",
      "1              Eminem\n",
      "2              Eminem\n",
      "3              Eminem\n",
      "4              Eminem\n",
      "            ...      \n",
      "323    Mumford & Sons\n",
      "324    Mumford & Sons\n",
      "325    Mumford & Sons\n",
      "326    Mumford & Sons\n",
      "327    Mumford & Sons\n",
      "Name: artist, Length: 1121, dtype: object\n",
      "x:\n",
      "0      Son, you know why you the greatest alive?\\r\\nW...\n",
      "1      Nigga, I wear fur coats in the summer, nigga\\r...\n",
      "2      Yeah, I was born a misfit, grew up ten miles f...\n",
      "3      Yeah huh\\r\\n(hip hop hip hop hip hop)\\r\\nTurn ...\n",
      "4      You will not be able to stay home brotha\\r\\nYo...\n",
      "                             ...                        \n",
      "323    My generation's stuck in the mirror\\r\\n\"Forget...\n",
      "324    Weep for yourself, my man,\\r\\nYou'll never be ...\n",
      "325    I know the time has numbered my days,\\r\\nAnd I...\n",
      "326    Though I may speak some tongue of old\\r\\nOr ev...\n",
      "327    Though I may speak some tongue of old\\r\\nOr ev...\n",
      "Name: lyrics, Length: 1121, dtype: object\n",
      "Test acc:0.8825622775800712\n",
      "Train acc:0.9202380952380952\n"
     ]
    }
   ],
   "source": [
    "nlp = en_core_web_md.load(disable=[\"parser\", \"textcat\", \"ner\"])\n",
    "create_model(filepathlist, artistlist)"
   ]
  },
  {
   "cell_type": "code",
   "execution_count": null,
   "metadata": {},
   "outputs": [],
   "source": [
    "for fp, a in zip(filepathlist, artistlist):\n",
    "    lyrics_df = (read_lyrics_to_df(\"../data/\"+str(fp), str(a)))\n",
    "    y = lyrics_df[\"artist\"]\n",
    "    X = lyrics_df[\"lyrics\"]"
   ]
  },
  {
   "cell_type": "code",
   "execution_count": null,
   "metadata": {},
   "outputs": [],
   "source": [
    "lyrics_df"
   ]
  },
  {
   "cell_type": "code",
   "execution_count": null,
   "metadata": {},
   "outputs": [],
   "source": []
  },
  {
   "cell_type": "code",
   "execution_count": null,
   "metadata": {},
   "outputs": [],
   "source": [
    "nlp = en_core_web_md.load(disable=[\"parser\", \"textcat\", \"ner\"])\n",
    "\n",
    "\n",
    "bow = CountVectorizer(tokenizer=custom_tokenizer,\n",
    "                      ngram_range=(1, 3), \n",
    "                      min_df=0.01, \n",
    "                      max_df=0.99)\n",
    "X_train, X_test, y_train, y_test = train_test_split(X, y)\n",
    "X_train = bow.fit_transform(X_train)\n",
    "X_test = bow.transform(X_test)\n",
    "\n",
    "m = Pipeline([\n",
    "    ('TfIdf', TfidfTransformer()),\n",
    "    ('NB', MultinomialNB())\n",
    "])\n",
    "m.fit(X_train, y_train)\n",
    "\n",
    "print(f\"Test acc:{metrics.accuracy_score(y_test, m.predict(X_test))}\")\n",
    "print(f\"Train acc:{metrics.accuracy_score(y_train, m.predict(X_train))}\")\n"
   ]
  },
  {
   "cell_type": "code",
   "execution_count": null,
   "metadata": {},
   "outputs": [],
   "source": []
  },
  {
   "cell_type": "code",
   "execution_count": null,
   "metadata": {},
   "outputs": [],
   "source": []
  },
  {
   "cell_type": "code",
   "execution_count": null,
   "metadata": {},
   "outputs": [],
   "source": []
  },
  {
   "cell_type": "code",
   "execution_count": null,
   "metadata": {},
   "outputs": [],
   "source": []
  },
  {
   "cell_type": "code",
   "execution_count": null,
   "metadata": {},
   "outputs": [],
   "source": []
  },
  {
   "cell_type": "code",
   "execution_count": null,
   "metadata": {},
   "outputs": [],
   "source": []
  },
  {
   "cell_type": "code",
   "execution_count": null,
   "metadata": {},
   "outputs": [],
   "source": []
  }
 ],
 "metadata": {
  "kernelspec": {
   "display_name": "Python 3",
   "language": "python",
   "name": "python3"
  },
  "language_info": {
   "codemirror_mode": {
    "name": "ipython",
    "version": 3
   },
   "file_extension": ".py",
   "mimetype": "text/x-python",
   "name": "python",
   "nbconvert_exporter": "python",
   "pygments_lexer": "ipython3",
   "version": "3.7.4"
  }
 },
 "nbformat": 4,
 "nbformat_minor": 4
}
